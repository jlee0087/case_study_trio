{
 "cells": [
  {
   "cell_type": "code",
   "execution_count": null,
   "metadata": {},
   "outputs": [],
   "source": [
    "#REMOVING NULL GENOTYPE VARIANTS\n",
    "## MENDELIAN INHERITANCE VARIANTS\n",
    "## WE NEED TO CHECK FOR JUST INHERITED VARIANTS, MEANING PARENTS MUST BE HETEROZYGOUS AND THE ALLELES THE KID HAS MUST BE FROM PARENTS\n",
    "import re\n",
    "\n",
    "## we are trying to keep all variants that can be inherited in autosomal recessive fashion(parents heterozygous or homozygous ref) as well as including the possibility of de novo variants\n",
    "with open('/Users/johnlee/jupyter/new_case/case_study_trio/new_vcfs/snpeff_canon.qual100.C4RCD_0637_1_PB_Whole_F0020G2S2M0635P0636_TSE61-C4RCD_0635_1_PB_Whole_F0020G2S1MP_TSE61-C4RCD_0636_1_PB_Whole_F0020G1S1MP_TSE61.merged.vcf', 'rt') as vcf, open(\"/Users/johnlee/jupyter/new_case/case_study_trio/new_vcfs/no_null.snpeff_canon.qual100.C4RCD_0637_1_PB_Whole_F0020G2S2M0635P0636_TSE61-C4RCD_0635_1_PB_Whole_F0020G2S1MP_TSE61-C4RCD_0636_1_PB_Whole_F0020G1S1MP_TSE61.merged.vcf\", \"w\") as output:\n",
    "    \n",
    "    for line in vcf:\n",
    "        if line.startswith(\"#\"):\n",
    "            output.write(line)\n",
    "        else:\n",
    "            regex = \"GT:\\S*?\\s+\\S+\\s+(.+?)[\\/|](.+?)\\S+\\s+\\S+\\s+\\S+\\s+(.+?)[\\/|](.+?)\\S+\\s+\\S+\\s+\\S+\\s+(.+?)[\\/|](.+?)\"\n",
    "            genotype = re.search(regex, line)\n",
    "            ## remove all variants with no information on child\n",
    "            if \".\" in genotype[5] or \".\" in genotype[6] or \".\" in genotype[1] or \".\" in genotype[2] or \".\" in genotype[3] or \".\" in genotype[4]:\n",
    "                pass\n",
    "            else:\n",
    "                output.write(line)\n",
    "                \n"
   ]
  },
  {
   "cell_type": "code",
   "execution_count": null,
   "metadata": {},
   "outputs": [],
   "source": [
    "#10-03-2023: DE NOVO VARIANTS\n",
    "## here, we will filter for the de novo variants, dominant negative\n",
    "import re\n",
    "with open('/Users/johnlee/jupyter/new_case/case_study_trio/new_vcfs/no_null.snpeff_canon.qual100.C4RCD_0637_1_PB_Whole_F0020G2S2M0635P0636_TSE61-C4RCD_0635_1_PB_Whole_F0020G2S1MP_TSE61-C4RCD_0636_1_PB_Whole_F0020G1S1MP_TSE61.merged.vcf', 'rt') as vcf, open('/Users/johnlee/jupyter/new_case/case_study_trio/new_vcfs/denovo.no_null.snpeff_canon.qual100.C4RCD_0637_1_PB_Whole_F0020G2S2M0635P0636_TSE61-C4RCD_0635_1_PB_Whole_F0020G2S1MP_TSE61-C4RCD_0636_1_PB_Whole_F0020G1S1MP_TSE61.merged.vcf', 'w') as output:\n",
    "    regex = \"GT:\\S*?\\s+\\S+\\s+(.+?)[\\/|](.+?)\\S+\\s+\\S+\\s+\\S+\\s+(.+?)[\\/|](.+?)\\S+\\s+\\S+\\s+\\S+\\s+(.+?)[\\/|](.+?)\"\n",
    "\n",
    "    for line in vcf:\n",
    "        if line.startswith('#'):\n",
    "            output.write(line)\n",
    "        else:\n",
    "            genotype = re.search(regex, line)\n",
    "            parent_alleles = [genotype[1], genotype[2], genotype[3], genotype[4]]\n",
    "            if genotype[5] != '0':\n",
    "                if genotype[5] not in parent_alleles:\n",
    "                    output.write(line)\n",
    "            elif genotype[6] != '0':\n",
    "                if genotype[6] not in parent_alleles:\n",
    "                    output.write(line)\n",
    "\n",
    "\n",
    "        \n"
   ]
  },
  {
   "cell_type": "code",
   "execution_count": null,
   "metadata": {},
   "outputs": [],
   "source": [
    "### okay, checking the deseq2 results for any effect on the rna. use this on denovo genes\n",
    "\n",
    "## compound heterozygous; filter for < -1 log2fc\n",
    "with open(\"/Users/johnlee/jupyter/new_case/case_study_trio/sourcefiles/C4RCD_0637-VS-UNAFFECTED.DESeq2_results.txt.deseq.vcf\", 'rt') as vcf, open(\"/Users/johnlee/jupyter/new_case/case_study_trio/comp_het.gene_list.txt\", \"rt\") as gene_list, open('comp_het.genes.vcf', 'w') as output:\n",
    "    genes = []\n",
    "    for line in gene_list:\n",
    "        genes.append(line.strip())\n",
    "    for line in vcf:\n",
    "        if line.startswith('#'):\n",
    "            output.write(line)\n",
    "        else:\n",
    "            regex = \"GENE=(.*?)[;]\\S*[;]LOG2FC=(.*?)[;](.*?);\"\n",
    "            gene_name = re.search(regex, line)\n",
    "            if gene_name[2] != \"NA\":                \n",
    "                if gene_name[1] in genes and float(gene_name[2]) <= -1:\n",
    "                    output.write(line)\n"
   ]
  },
  {
   "cell_type": "code",
   "execution_count": null,
   "metadata": {},
   "outputs": [],
   "source": [
    "# AUTOSOMAL RECESSIVE VARIANTS\n",
    "\n",
    "import re\n",
    "import pandas as pd\n",
    "with open('/Users/johnlee/jupyter/new_case/case_study_trio/new_vcfs/no_null.snpeff_canon.qual100.C4RCD_0637_1_PB_Whole_F0020G2S2M0635P0636_TSE61-C4RCD_0635_1_PB_Whole_F0020G2S1MP_TSE61-C4RCD_0636_1_PB_Whole_F0020G1S1MP_TSE61.merged.vcf', 'rt') as vcf, open('/Users/johnlee/jupyter/new_case/case_study_trio/new_vcfs/aut_rec.no_null.snpeff_canon.qual100.C4RCD_0637_1_PB_Whole_F0020G2S2M0635P0636_TSE61-C4RCD_0635_1_PB_Whole_F0020G2S1MP_TSE61-C4RCD_0636_1_PB_Whole_F0020G1S1MP_TSE61.merged.vcf', 'w') as output:\n",
    "    regex = \"GT:\\S*?\\s+\\S+\\s+(.+?)[\\/|](.+?)\\S+\\s+\\S+\\s+\\S+\\s+(.+?)[\\/|](.+?)\\S+\\s+\\S+\\s+\\S+\\s+(.+?)[\\/|](.+?)\"\n",
    "    gene_list_regex = \"ANN=\\S*?[|]\\S*?[|]\\S*?[|](.*?)[|]\"\n",
    "    gene_list = []\n",
    "## GENE LIST GENERATION\n",
    "    for line in vcf:\n",
    "        if not line.startswith('#'):\n",
    "            gene_name = re.search(gene_list_regex, line)\n",
    "            gene_list.append(gene_name[1])\n",
    "    \n",
    "    genes_df = pd.DataFrame(gene_list)\n",
    "    gene_counts = genes_df[0].value_counts().reset_index()\n",
    "    gene_counts.columns = ['gene', 'count']\n",
    "    two_hits = gene_counts.loc[gene_counts['count'] >1]\n",
    "\n",
    "    vcf.seek(0)\n",
    "    for line in vcf:\n",
    "        if line.startswith('#'):\n",
    "            output.write(line)\n",
    "        else:\n",
    "            genotype = re.search(regex, line)\n",
    "            if genotype[5] == genotype[6] and float(genotype[5]) != 0:\n",
    "                parent1 = [genotype[1], genotype[2]]\n",
    "                parent2 = [genotype[3], genotype[4]]\n",
    "                if parent1[0] != parent1[1] and parent2[0] != parent2[1]:\n",
    "\n",
    "                            \n",
    "                    if genotype[5] in parent1 and genotype[5] in parent2:\n",
    "                        output.write(line)    "
   ]
  },
  {
   "cell_type": "code",
   "execution_count": null,
   "metadata": {},
   "outputs": [],
   "source": [
    "## no autosomal recessive...\n",
    "import re\n",
    "\n",
    "with open('/Users/johnlee/jupyter/new_case/case_study_trio/new_vcfs/no_null.snpeff_canon.qual100.C4RCD_0637_1_PB_Whole_F0020G2S2M0635P0636_TSE61-C4RCD_0635_1_PB_Whole_F0020G2S1MP_TSE61-C4RCD_0636_1_PB_Whole_F0020G1S1MP_TSE61.merged.vcf', 'rt') as vcf, open('/Users/johnlee/jupyter/new_case/case_study_trio/new_vcfs/aut_rec.no_null.snpeff_canon.qual100.C4RCD_0637_1_PB_Whole_F0020G2S2M0635P0636_TSE61-C4RCD_0635_1_PB_Whole_F0020G2S1MP_TSE61-C4RCD_0636_1_PB_Whole_F0020G1S1MP_TSE61.merged.vcf', 'w') as output:\n",
    "    regex = \"GT:\\S*?\\s+\\S+\\s+(.+?)[\\/|](.+?)\\S+\\s+\\S+\\s+\\S+\\s+(.+?)[\\/|](.+?)\\S+\\s+\\S+\\s+\\S+\\s+(.+?)[\\/|](.+?)\"\n",
    "    gene_list_regex = \"ANN=\\S*?[|]\\S*?[|]\\S*?[|](.*?)[|]\"\n",
    "\n",
    "## PARSING THROUGH THE VCF\n",
    "    for line in vcf:\n",
    "        if line.startswith('#'):\n",
    "            output.write(line)\n",
    "        else:\n",
    "            genotype = re.search(regex, line)\n",
    "            if genotype[5] == genotype[6] and float(genotype[5]) != 0:\n",
    "                if parent1[0] != parent1[1] and parent2[0] != parent2[1]:\n",
    "                    parent1 = [genotype[1], genotype[2]]\n",
    "                    parent2 = [genotype[3], genotype[4]]\n",
    "                            \n",
    "                    if genotype[5] in parent1 and genotype[5] in parent2:\n",
    "                        output.write(line)\n",
    "\n",
    "## no autosomal recessive variants it seems"
   ]
  },
  {
   "cell_type": "code",
   "execution_count": null,
   "metadata": {},
   "outputs": [],
   "source": [
    "# COMPOUND HETEROZYGOUS VARIANTS. modify code to look at the de novo variant genes\n",
    "import re \n",
    "import pandas as pd\n",
    "\n",
    "##creating both aut_rec and comp_het:\n",
    "\n",
    "with open('/Users/johnlee/jupyter/new_case/case_study_trio/new_vcfs/denovo.no_null.snpeff_canon.qual100.C4RCD_0637_1_PB_Whole_F0020G2S2M0635P0636_TSE61-C4RCD_0635_1_PB_Whole_F0020G2S1MP_TSE61-C4RCD_0636_1_PB_Whole_F0020G1S1MP_TSE61.merged.vcf', 'rt') as vcf:\n",
    "    regex = \"GT:\\S*?\\s+\\S+\\s+(.+?)[\\/|](.+?)\\S+\\s+\\S+\\s+\\S+\\s+(.+?)[\\/|](.+?)\\S+\\s+\\S+\\s+\\S+\\s+(.+?)[\\/|](.+?)\"\n",
    "    gene_list_regex = \"ANN=\\S*?[|]\\S*?[|]\\S*?[|](.*?)[|]\"\n",
    "    gene_list = []\n",
    "## first make a gene list \n",
    "    for line in vcf:\n",
    "        if not line.startswith('#'):\n",
    "            gene_name = re.search(gene_list_regex, line)\n",
    "            if gene_name[1].find('-') > -1 or gene_name[1].find('.') > -1 or gene_name[1].startswith('MUC'):\n",
    "                pass\n",
    "            else:\n",
    "                gene_list.append(gene_name[1])\n",
    "                \n",
    "    \n",
    "    genes_df = pd.DataFrame(gene_list)\n",
    "    gene_counts = genes_df[0].value_counts().reset_index()\n",
    "    gene_counts.columns = ['gene', 'count']\n"
   ]
  },
  {
   "cell_type": "code",
   "execution_count": null,
   "metadata": {},
   "outputs": [],
   "source": []
  },
  {
   "cell_type": "code",
   "execution_count": null,
   "metadata": {},
   "outputs": [],
   "source": [
    "##write out comp het genes to file. do this for de novo too\n",
    "with open('/Users/johnlee/jupyter/new_case/case_study_trio/new_vcfs/denovo.gene_list.txt', 'w') as output:\n",
    "    for x in gene_counts['gene']:\n",
    "        if x.find(\"-\") > -1 or x.find('.') > -1 or x.startswith('MUC'):\n",
    "            pass\n",
    "        else:\n",
    "            output.write(x+ \"\\n\")"
   ]
  },
  {
   "cell_type": "code",
   "execution_count": null,
   "metadata": {},
   "outputs": [],
   "source": [
    "## denovo deseq2 results\n",
    "\n",
    "with open(\"/Users/johnlee/jupyter/new_case/case_study_trio/sourcefiles/C4RCD_0637-VS-UNAFFECTED.DESeq2_results.txt.deseq.vcf\", 'rt') as vcf, open(\"/Users/johnlee/jupyter/new_case/case_study_trio/new_vcfs/denovo.gene_list.txt\", \"rt\") as gene_list, open('/Users/johnlee/jupyter/new_case/case_study_trio/new_vcfs/denovo.genes.vcf', 'w') as output:\n",
    "    genes = []\n",
    "    for line in gene_list:\n",
    "        genes.append(line.strip())\n",
    "    for line in vcf:\n",
    "        if line.startswith('#'):\n",
    "            output.write(line)\n",
    "        else:\n",
    "            regex = \"GENE=(.*?)[;]\\S*[;]LOG2FC=(.*?)[;](.*?);\"\n",
    "            gene_name = re.search(regex, line)\n",
    "            if gene_name[2] != \"NA\":\n",
    "\n",
    "                if gene_name[1] in genes and float(gene_name[2]) <= -1:\n",
    "                    output.write(line)"
   ]
  },
  {
   "cell_type": "code",
   "execution_count": 20,
   "metadata": {},
   "outputs": [],
   "source": [
    "with open(\"/Users/johnlee/jupyter/forjohn2/vcfs/reportable_range.dbsnp.no_null.high_mod.qual100.C4RCD_0637_1_PB_Whole_F0020G2S2M0635P0636_TSE61-C4RCD_0635_1_PB_Whole_F0020G2S1MP_TSE61-C4RCD_0636_1_PB_Whole_F0020G1S1MP_TSE61.HC_All.snpEff.vcf\", 'rt') as vcf:\n",
    "    tmp = []\n",
    "    for line in vcf:\n",
    "        tmp.append(line)\n",
    "        "
   ]
  },
  {
   "cell_type": "code",
   "execution_count": 22,
   "metadata": {},
   "outputs": [
    {
     "data": {
      "text/plain": [
       "<re.Match object; span=(0, 612), match='1\\t12854068\\trs79492089;rs75216843\\tT\\tC\\t727.13\\>"
      ]
     },
     "execution_count": 22,
     "metadata": {},
     "output_type": "execute_result"
    }
   ],
   "source": [
    "\n",
    "import re \n",
    "regex = \"^(\\S+)\\s+(\\S+)\\s+\\S+\\s+(\\S+)\\s+(\\S+)\\s+\\S+\\s+\\S+\\s+(\\S+)\"\n",
    "search = re.search(regex, tmp[400])\n",
    "\n",
    "search"
   ]
  },
  {
   "cell_type": "code",
   "execution_count": 17,
   "metadata": {},
   "outputs": [
    {
     "data": {
      "text/plain": [
       "'ERCC-00171\\t1\\t.\\tN\\t<EXP>\\tNA\\t.\\tIMPRECISE;END=505;GENEID=ERCC-00171;GENE=ERCC-00171;BASEMEAN=0;LOG2FC=NA;l2fcSE=NA;Stat=NA;PVALUE=NA;PADJ=NA;REFERENCE=C4RCD_0093_2_PB_Whole_F0195G1S1M0132P0133_TSMRU.htSeqCounts\\n'"
      ]
     },
     "execution_count": 17,
     "metadata": {},
     "output_type": "execute_result"
    }
   ],
   "source": [
    "tmp[58010]"
   ]
  },
  {
   "cell_type": "code",
   "execution_count": null,
   "metadata": {},
   "outputs": [],
   "source": []
  },
  {
   "cell_type": "code",
   "execution_count": null,
   "metadata": {},
   "outputs": [],
   "source": []
  }
 ],
 "metadata": {
  "kernelspec": {
   "display_name": "Python 3",
   "language": "python",
   "name": "python3"
  },
  "language_info": {
   "codemirror_mode": {
    "name": "ipython",
    "version": 3
   },
   "file_extension": ".py",
   "mimetype": "text/x-python",
   "name": "python",
   "nbconvert_exporter": "python",
   "pygments_lexer": "ipython3",
   "version": "3.11.5"
  },
  "orig_nbformat": 4
 },
 "nbformat": 4,
 "nbformat_minor": 2
}
